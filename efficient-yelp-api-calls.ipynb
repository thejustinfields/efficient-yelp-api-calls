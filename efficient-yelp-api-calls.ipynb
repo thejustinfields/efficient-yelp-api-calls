{
 "cells": [
  {
   "cell_type": "markdown",
   "id": "e016338a",
   "metadata": {},
   "source": [
    "# Efficient Yelp API Calls"
   ]
  },
  {
   "cell_type": "code",
   "execution_count": 3,
   "id": "5cf48101",
   "metadata": {},
   "outputs": [],
   "source": [
    "#imports\n",
    "import numpy as np\n",
    "import pandas as pd\n",
    "import matplotlib.pyplot as plt\n",
    "import seaborn as sns\n",
    "#additional imports\n",
    "import os, json, math, time\n",
    "from yelpapi import YelpAPI\n",
    "from tqdm.notebook import tqdm_notebook"
   ]
  },
  {
   "cell_type": "code",
   "execution_count": 4,
   "id": "16546c6e",
   "metadata": {},
   "outputs": [],
   "source": [
    "#Load API credentials\n",
    "with open('/Users/justinfields/.secret/yelp_api.json') as f:\n",
    "    login = json.load(f)\n",
    "#instantiate YelpAPI variable\n",
    "yelp_api = YelpAPI(login['api-key'], timeout_s=5.0)"
   ]
  },
  {
   "cell_type": "code",
   "execution_count": 5,
   "id": "6600be8b",
   "metadata": {},
   "outputs": [],
   "source": [
    "#set our API call parameters\n",
    "LOCATION = 'Atlanta, GA'\n",
    "TERM = 'Tacos'"
   ]
  },
  {
   "cell_type": "code",
   "execution_count": 6,
   "id": "ab258e9a",
   "metadata": {},
   "outputs": [
    {
     "data": {
      "text/plain": [
       "'Data/results_in_progress_atl_tacos.json'"
      ]
     },
     "execution_count": 6,
     "metadata": {},
     "output_type": "execute_result"
    }
   ],
   "source": [
    "#specifying JSON_filename (can include a folder)\n",
    "#include the search terms in the filename\n",
    "JSON_FILE = 'Data/results_in_progress_atl_tacos.json'\n",
    "JSON_FILE"
   ]
  },
  {
   "cell_type": "code",
   "execution_count": 7,
   "id": "87e9cffb",
   "metadata": {},
   "outputs": [
    {
     "name": "stdout",
     "output_type": "stream",
     "text": [
      "[i] Data/results_in_progress_atl_tacos.json not found. Saving empty list to file\n"
     ]
    }
   ],
   "source": [
    "#Check if JSON_FILE exists\n",
    "file_exists = os.path.isfile(JSON_FILE)\n",
    "#If it does not exist:\n",
    "if file_exists == False:\n",
    "\n",
    "    #Create any need folders\n",
    "    #Get the folder name only\n",
    "    folder = os.path.dirname(JSON_FILE)\n",
    "    #If JSON_FILE included a folder:\n",
    "    if len(folder)>0:\n",
    "        #Create the folder\n",
    "        os.makedirs(folder, exist_ok=True)\n",
    "        \n",
    "    #INFORM USER AND SAVE EMPTY LIST\n",
    "    print(f'[i] {JSON_FILE} not found. Saving empty list to file')\n",
    "    \n",
    "    #save an empty list\n",
    "    with open(JSON_FILE, 'w') as f:\n",
    "        json.dump([],f)\n",
    "        \n",
    "#If it exists, inform user\n",
    "else:\n",
    "    print(f\"[i] {JSON_FILE} already exists.\")"
   ]
  },
  {
   "cell_type": "code",
   "execution_count": 8,
   "id": "cc96434b",
   "metadata": {},
   "outputs": [
    {
     "name": "stdout",
     "output_type": "stream",
     "text": [
      "- 0 previous results found.\n"
     ]
    }
   ],
   "source": [
    "#Load previous results adn use len of results for offset\n",
    "with open(JSON_FILE, 'r') as f:\n",
    "    previous_results = json.load(f)\n",
    "    \n",
    "#set offset based on previous results\n",
    "n_results = len(previous_results)\n",
    "print(f'- {n_results} previous results found.')"
   ]
  },
  {
   "cell_type": "code",
   "execution_count": 9,
   "id": "8a037881",
   "metadata": {},
   "outputs": [
    {
     "data": {
      "text/plain": [
       "dict_keys(['businesses', 'total', 'region'])"
      ]
     },
     "execution_count": 9,
     "metadata": {},
     "output_type": "execute_result"
    }
   ],
   "source": [
    "#Use our yelp_api variable's search_query method to perform our API call\n",
    "results = yelp_api.search_query(location = LOCATION, term = TERM, offset=n_results)\n",
    "results.keys()"
   ]
  },
  {
   "cell_type": "code",
   "execution_count": 10,
   "id": "34cb1151",
   "metadata": {},
   "outputs": [
    {
     "data": {
      "text/plain": [
       "1800"
      ]
     },
     "execution_count": 10,
     "metadata": {},
     "output_type": "execute_result"
    }
   ],
   "source": [
    "#How many results total?\n",
    "total_results = results['total']\n",
    "total_results"
   ]
  },
  {
   "cell_type": "code",
   "execution_count": 11,
   "id": "28474da4",
   "metadata": {},
   "outputs": [
    {
     "data": {
      "text/plain": [
       "20"
      ]
     },
     "execution_count": 11,
     "metadata": {},
     "output_type": "execute_result"
    }
   ],
   "source": [
    "#How many did we get the details for?\n",
    "results_per_page = len(results['businesses'])\n",
    "results_per_page"
   ]
  },
  {
   "cell_type": "code",
   "execution_count": 12,
   "id": "f4ad002f",
   "metadata": {},
   "outputs": [
    {
     "data": {
      "text/plain": [
       "90"
      ]
     },
     "execution_count": 12,
     "metadata": {},
     "output_type": "execute_result"
    }
   ],
   "source": [
    "#import additional packages for controlling our loop\n",
    "import time, math\n",
    "#use math.ceil to round up for the total number of pages of results\n",
    "n_pages = math.ceil((results['total']-n_results)/ results_per_page)\n",
    "n_pages"
   ]
  },
  {
   "cell_type": "code",
   "execution_count": 13,
   "id": "8a58f279",
   "metadata": {},
   "outputs": [],
   "source": [
    "#Join new results with old list with extend and save to file\n",
    "previous_results.extend(results['businesses'])\n",
    "with open(JSON_FILE, 'w') as f:\n",
    "    json.dump(previous_results, f)"
   ]
  },
  {
   "cell_type": "code",
   "execution_count": 14,
   "id": "becdf638",
   "metadata": {},
   "outputs": [
    {
     "data": {
      "application/vnd.jupyter.widget-view+json": {
       "model_id": "da16e20149eb4538aa51a3a1e1ce6559",
       "version_major": 2,
       "version_minor": 0
      },
      "text/plain": [
       "  0%|          | 0/90 [00:00<?, ?it/s]"
      ]
     },
     "metadata": {},
     "output_type": "display_data"
    }
   ],
   "source": [
    "from tqdm.notebook import tqdm_notebook\n",
    "import time\n",
    "for i in tqdm_notebook(range(n_pages)):\n",
    "    #adds 200 ms pause\n",
    "    time.sleep(.2)"
   ]
  },
  {
   "cell_type": "code",
   "execution_count": 15,
   "id": "b84e7326",
   "metadata": {},
   "outputs": [
    {
     "data": {
      "text/plain": [
       "False"
      ]
     },
     "execution_count": 15,
     "metadata": {},
     "output_type": "execute_result"
    }
   ],
   "source": [
    "#delete file and confirm it no longer exists\n",
    "os.remove(JSON_FILE)\n",
    "os.path.isfile(JSON_FILE)"
   ]
  },
  {
   "cell_type": "code",
   "execution_count": 16,
   "id": "c9cd0af9",
   "metadata": {},
   "outputs": [],
   "source": [
    "def create_json_file(JSON_FILE, delete_if_exists=False):\n",
    "    #Check if JSON_FILE exists\n",
    "    file_exists = os.path.isfile(JSON_FILE)\n",
    "    \n",
    "    #If it does exist:\n",
    "    if file_exists==True:\n",
    "        \n",
    "        #Check if user wants to delete if exists\n",
    "        if delete_if_exists==True:\n",
    "            \n",
    "            print(f'[!] {JSON_FILE} already exists. Deleting previous file...')\n",
    "            \n",
    "            #Delete file and confirm it no longer exists\n",
    "            os.remove(JSON_FILE)\n",
    "            #Recursive call to function after old file deleted\n",
    "            create_json_file(JSON_FILE, delete_if_exists=False)\n",
    "        \n",
    "        else:\n",
    "            print(f'[i] {JSON_FILE} already exists.')\n",
    "            \n",
    "    #If it does NOT exist\n",
    "    else:\n",
    "        \n",
    "        #Inform user and save empty list\n",
    "        print(f'[i] {JSON_FILE} not found. Saving empty list to new file.')\n",
    "        \n",
    "        #Create any needed folders\n",
    "        #Get the folder name only\n",
    "        folder = os.path.dirname(JSON_FILE)\n",
    "        \n",
    "        #If JSON_FILE included a folder:\n",
    "        if len(folder)>0:\n",
    "            #Create the folder\n",
    "            os.makedirs(folder, exist_ok=True)\n",
    "        #Save empty list to start the json file\n",
    "        with open(JSON_FILE, 'w') as f:\n",
    "            json.dump([], f)"
   ]
  },
  {
   "cell_type": "code",
   "execution_count": 17,
   "id": "151e56b0",
   "metadata": {},
   "outputs": [
    {
     "name": "stdout",
     "output_type": "stream",
     "text": [
      "[i] Data/results_in_progress_atl_tacos.json not found. Saving empty list to new file.\n",
      "- 0 previous results found.\n"
     ]
    },
    {
     "data": {
      "text/plain": [
       "1800"
      ]
     },
     "execution_count": 17,
     "metadata": {},
     "output_type": "execute_result"
    }
   ],
   "source": [
    "#Create a new empty json file (exist the previous if it exists)\n",
    "create_json_file(JSON_FILE, delete_if_exists=True)\n",
    "#Load previous results and use len of results for offset\n",
    "with open(JSON_FILE, 'r') as f:\n",
    "    previous_results = json.load(f)\n",
    "    \n",
    "#Set offset based on previous results\n",
    "n_results = len(previous_results)\n",
    "print(f'- {n_results} previous results found.')\n",
    "\n",
    "#use your yelp_api variable's search_query method to perform our API call\n",
    "results = yelp_api.search_query(location=LOCATION, term=TERM, offset=n_results)\n",
    "\n",
    "#How many results total?\n",
    "total_results = results['total']\n",
    "#How many did we get the details for?\n",
    "results_per_page = len(results['businesses'])\n",
    "#Use math.ceil to round up for the total number of pages of results\n",
    "n_pages = math.ceil((results['total']-n_results/ results_per_page))\n",
    "n_pages"
   ]
  },
  {
   "cell_type": "code",
   "execution_count": 18,
   "id": "70ea4427",
   "metadata": {},
   "outputs": [
    {
     "data": {
      "application/vnd.jupyter.widget-view+json": {
       "model_id": "47e7297d42d6439a8179e31a75c85c2b",
       "version_major": 2,
       "version_minor": 0
      },
      "text/plain": [
       "  0%|          | 0/1800 [00:00<?, ?it/s]"
      ]
     },
     "metadata": {},
     "output_type": "display_data"
    },
    {
     "name": "stdout",
     "output_type": "stream",
     "text": [
      "Exceeded 1000 api calls. Stopping loop.\n"
     ]
    }
   ],
   "source": [
    "for i in tqdm_notebook(range(1,n_pages+1)):\n",
    "    \n",
    "    #Read in results in progress file and check the length\n",
    "    with open(JSON_FILE, 'r') as f:\n",
    "        previous_results = json.load(f)\n",
    "    #Save number of results to use as offset\n",
    "    n_results = len(previous_results)\n",
    "    \n",
    "    if (n_results + results_per_page) > 1000:\n",
    "        print('Exceeded 1000 api calls. Stopping loop.')\n",
    "        break\n",
    "        \n",
    "    #use n_results as the OFFSET\n",
    "    results = yelp_api.search_query(location=LOCATION, term=TERM, offset=n_results)\n",
    "    \n",
    "    #append new results and save to file\n",
    "    previous_results.extend(results['businesses'])\n",
    "    \n",
    "    #display(previous_results)\n",
    "    with open(JSON_FILE, 'w') as f:\n",
    "        json.dump(previous_results, f)\n",
    "        \n",
    "    time.sleep(.2)"
   ]
  },
  {
   "cell_type": "code",
   "execution_count": 19,
   "id": "f9e57bec",
   "metadata": {},
   "outputs": [
    {
     "data": {
      "text/html": [
       "<div>\n",
       "<style scoped>\n",
       "    .dataframe tbody tr th:only-of-type {\n",
       "        vertical-align: middle;\n",
       "    }\n",
       "\n",
       "    .dataframe tbody tr th {\n",
       "        vertical-align: top;\n",
       "    }\n",
       "\n",
       "    .dataframe thead th {\n",
       "        text-align: right;\n",
       "    }\n",
       "</style>\n",
       "<table border=\"1\" class=\"dataframe\">\n",
       "  <thead>\n",
       "    <tr style=\"text-align: right;\">\n",
       "      <th></th>\n",
       "      <th>id</th>\n",
       "      <th>alias</th>\n",
       "      <th>name</th>\n",
       "      <th>image_url</th>\n",
       "      <th>is_closed</th>\n",
       "      <th>url</th>\n",
       "      <th>review_count</th>\n",
       "      <th>categories</th>\n",
       "      <th>rating</th>\n",
       "      <th>coordinates</th>\n",
       "      <th>transactions</th>\n",
       "      <th>location</th>\n",
       "      <th>phone</th>\n",
       "      <th>display_phone</th>\n",
       "      <th>distance</th>\n",
       "      <th>price</th>\n",
       "    </tr>\n",
       "  </thead>\n",
       "  <tbody>\n",
       "    <tr>\n",
       "      <th>0</th>\n",
       "      <td>_JHOGQrKDyPneSo8E9gRDw</td>\n",
       "      <td>oaxaca-no-title</td>\n",
       "      <td>Oaxaca</td>\n",
       "      <td>https://s3-media2.fl.yelpcdn.com/bphoto/0fUO9v...</td>\n",
       "      <td>False</td>\n",
       "      <td>https://www.yelp.com/biz/oaxaca-no-title?adjus...</td>\n",
       "      <td>51</td>\n",
       "      <td>[{'alias': 'mexican', 'title': 'Mexican'}]</td>\n",
       "      <td>4.5</td>\n",
       "      <td>{'latitude': 33.891761, 'longitude': -84.308201}</td>\n",
       "      <td>[]</td>\n",
       "      <td>{'address1': '5255 Peachtree Blvd', 'address2'...</td>\n",
       "      <td>+17704504805</td>\n",
       "      <td>(770) 450-4805</td>\n",
       "      <td>17262.004672</td>\n",
       "      <td>NaN</td>\n",
       "    </tr>\n",
       "    <tr>\n",
       "      <th>1</th>\n",
       "      <td>rMQPC0UGceG3gmG8iv1POA</td>\n",
       "      <td>casi-cielo-atlanta</td>\n",
       "      <td>Casi Cielo</td>\n",
       "      <td>https://s3-media2.fl.yelpcdn.com/bphoto/2xjCJW...</td>\n",
       "      <td>False</td>\n",
       "      <td>https://www.yelp.com/biz/casi-cielo-atlanta?ad...</td>\n",
       "      <td>506</td>\n",
       "      <td>[{'alias': 'cocktailbars', 'title': 'Cocktail ...</td>\n",
       "      <td>4.5</td>\n",
       "      <td>{'latitude': 33.92237, 'longitude': -84.378885}</td>\n",
       "      <td>[delivery, pickup]</td>\n",
       "      <td>{'address1': '6125 Roswell Rd', 'address2': ''...</td>\n",
       "      <td>+14045499411</td>\n",
       "      <td>(404) 549-9411</td>\n",
       "      <td>17634.140917</td>\n",
       "      <td>NaN</td>\n",
       "    </tr>\n",
       "    <tr>\n",
       "      <th>2</th>\n",
       "      <td>kGb2Rnh3Uwni5k0qQY-05Q</td>\n",
       "      <td>nuevo-laredo-cantina-atlanta</td>\n",
       "      <td>Nuevo Laredo Cantina</td>\n",
       "      <td>https://s3-media2.fl.yelpcdn.com/bphoto/gXlgEd...</td>\n",
       "      <td>False</td>\n",
       "      <td>https://www.yelp.com/biz/nuevo-laredo-cantina-...</td>\n",
       "      <td>1227</td>\n",
       "      <td>[{'alias': 'mexican', 'title': 'Mexican'}]</td>\n",
       "      <td>4.0</td>\n",
       "      <td>{'latitude': 33.8094340325727, 'longitude': -8...</td>\n",
       "      <td>[delivery, pickup]</td>\n",
       "      <td>{'address1': '1495 Chattahoochee Ave NW', 'add...</td>\n",
       "      <td>+14043529009</td>\n",
       "      <td>(404) 352-9009</td>\n",
       "      <td>4898.788867</td>\n",
       "      <td>$$</td>\n",
       "    </tr>\n",
       "    <tr>\n",
       "      <th>3</th>\n",
       "      <td>V86AJK3xytBv2C0bwi9_Ow</td>\n",
       "      <td>la-pastorcita-atlanta</td>\n",
       "      <td>La Pastorcita</td>\n",
       "      <td>https://s3-media2.fl.yelpcdn.com/bphoto/QwqXsI...</td>\n",
       "      <td>False</td>\n",
       "      <td>https://www.yelp.com/biz/la-pastorcita-atlanta...</td>\n",
       "      <td>494</td>\n",
       "      <td>[{'alias': 'mexican', 'title': 'Mexican'}]</td>\n",
       "      <td>4.0</td>\n",
       "      <td>{'latitude': 33.84308, 'longitude': -84.32924}</td>\n",
       "      <td>[delivery, pickup]</td>\n",
       "      <td>{'address1': '3304 Buford Hwy NE', 'address2':...</td>\n",
       "      <td>+16787058162</td>\n",
       "      <td>(678) 705-8162</td>\n",
       "      <td>11884.742391</td>\n",
       "      <td>$</td>\n",
       "    </tr>\n",
       "    <tr>\n",
       "      <th>4</th>\n",
       "      <td>E62caoz6iIpxvf3czm5O_g</td>\n",
       "      <td>taqueria-la-tecampana-austell-2</td>\n",
       "      <td>Taqueria La Tecampana</td>\n",
       "      <td>https://s3-media2.fl.yelpcdn.com/bphoto/fWCLKu...</td>\n",
       "      <td>False</td>\n",
       "      <td>https://www.yelp.com/biz/taqueria-la-tecampana...</td>\n",
       "      <td>63</td>\n",
       "      <td>[{'alias': 'mexican', 'title': 'Mexican'}]</td>\n",
       "      <td>5.0</td>\n",
       "      <td>{'latitude': 33.81793429987311, 'longitude': -...</td>\n",
       "      <td>[delivery, pickup]</td>\n",
       "      <td>{'address1': '1936 Veterans Memorial Hwy', 'ad...</td>\n",
       "      <td>+16787428353</td>\n",
       "      <td>(678) 742-8353</td>\n",
       "      <td>18497.948149</td>\n",
       "      <td>$$</td>\n",
       "    </tr>\n",
       "  </tbody>\n",
       "</table>\n",
       "</div>"
      ],
      "text/plain": [
       "                       id                            alias  \\\n",
       "0  _JHOGQrKDyPneSo8E9gRDw                  oaxaca-no-title   \n",
       "1  rMQPC0UGceG3gmG8iv1POA               casi-cielo-atlanta   \n",
       "2  kGb2Rnh3Uwni5k0qQY-05Q     nuevo-laredo-cantina-atlanta   \n",
       "3  V86AJK3xytBv2C0bwi9_Ow            la-pastorcita-atlanta   \n",
       "4  E62caoz6iIpxvf3czm5O_g  taqueria-la-tecampana-austell-2   \n",
       "\n",
       "                    name                                          image_url  \\\n",
       "0                 Oaxaca  https://s3-media2.fl.yelpcdn.com/bphoto/0fUO9v...   \n",
       "1             Casi Cielo  https://s3-media2.fl.yelpcdn.com/bphoto/2xjCJW...   \n",
       "2   Nuevo Laredo Cantina  https://s3-media2.fl.yelpcdn.com/bphoto/gXlgEd...   \n",
       "3          La Pastorcita  https://s3-media2.fl.yelpcdn.com/bphoto/QwqXsI...   \n",
       "4  Taqueria La Tecampana  https://s3-media2.fl.yelpcdn.com/bphoto/fWCLKu...   \n",
       "\n",
       "   is_closed                                                url  review_count  \\\n",
       "0      False  https://www.yelp.com/biz/oaxaca-no-title?adjus...            51   \n",
       "1      False  https://www.yelp.com/biz/casi-cielo-atlanta?ad...           506   \n",
       "2      False  https://www.yelp.com/biz/nuevo-laredo-cantina-...          1227   \n",
       "3      False  https://www.yelp.com/biz/la-pastorcita-atlanta...           494   \n",
       "4      False  https://www.yelp.com/biz/taqueria-la-tecampana...            63   \n",
       "\n",
       "                                          categories  rating  \\\n",
       "0         [{'alias': 'mexican', 'title': 'Mexican'}]     4.5   \n",
       "1  [{'alias': 'cocktailbars', 'title': 'Cocktail ...     4.5   \n",
       "2         [{'alias': 'mexican', 'title': 'Mexican'}]     4.0   \n",
       "3         [{'alias': 'mexican', 'title': 'Mexican'}]     4.0   \n",
       "4         [{'alias': 'mexican', 'title': 'Mexican'}]     5.0   \n",
       "\n",
       "                                         coordinates        transactions  \\\n",
       "0   {'latitude': 33.891761, 'longitude': -84.308201}                  []   \n",
       "1    {'latitude': 33.92237, 'longitude': -84.378885}  [delivery, pickup]   \n",
       "2  {'latitude': 33.8094340325727, 'longitude': -8...  [delivery, pickup]   \n",
       "3     {'latitude': 33.84308, 'longitude': -84.32924}  [delivery, pickup]   \n",
       "4  {'latitude': 33.81793429987311, 'longitude': -...  [delivery, pickup]   \n",
       "\n",
       "                                            location         phone  \\\n",
       "0  {'address1': '5255 Peachtree Blvd', 'address2'...  +17704504805   \n",
       "1  {'address1': '6125 Roswell Rd', 'address2': ''...  +14045499411   \n",
       "2  {'address1': '1495 Chattahoochee Ave NW', 'add...  +14043529009   \n",
       "3  {'address1': '3304 Buford Hwy NE', 'address2':...  +16787058162   \n",
       "4  {'address1': '1936 Veterans Memorial Hwy', 'ad...  +16787428353   \n",
       "\n",
       "    display_phone      distance price  \n",
       "0  (770) 450-4805  17262.004672   NaN  \n",
       "1  (404) 549-9411  17634.140917   NaN  \n",
       "2  (404) 352-9009   4898.788867    $$  \n",
       "3  (678) 705-8162  11884.742391     $  \n",
       "4  (678) 742-8353  18497.948149    $$  "
      ]
     },
     "metadata": {},
     "output_type": "display_data"
    },
    {
     "data": {
      "text/html": [
       "<div>\n",
       "<style scoped>\n",
       "    .dataframe tbody tr th:only-of-type {\n",
       "        vertical-align: middle;\n",
       "    }\n",
       "\n",
       "    .dataframe tbody tr th {\n",
       "        vertical-align: top;\n",
       "    }\n",
       "\n",
       "    .dataframe thead th {\n",
       "        text-align: right;\n",
       "    }\n",
       "</style>\n",
       "<table border=\"1\" class=\"dataframe\">\n",
       "  <thead>\n",
       "    <tr style=\"text-align: right;\">\n",
       "      <th></th>\n",
       "      <th>id</th>\n",
       "      <th>alias</th>\n",
       "      <th>name</th>\n",
       "      <th>image_url</th>\n",
       "      <th>is_closed</th>\n",
       "      <th>url</th>\n",
       "      <th>review_count</th>\n",
       "      <th>categories</th>\n",
       "      <th>rating</th>\n",
       "      <th>coordinates</th>\n",
       "      <th>transactions</th>\n",
       "      <th>location</th>\n",
       "      <th>phone</th>\n",
       "      <th>display_phone</th>\n",
       "      <th>distance</th>\n",
       "      <th>price</th>\n",
       "    </tr>\n",
       "  </thead>\n",
       "  <tbody>\n",
       "    <tr>\n",
       "      <th>995</th>\n",
       "      <td>CIKGC-_G0yrIkISvnsaFFg</td>\n",
       "      <td>chilis-atlanta-6</td>\n",
       "      <td>Chili's</td>\n",
       "      <td>https://s3-media4.fl.yelpcdn.com/bphoto/QKJBTC...</td>\n",
       "      <td>False</td>\n",
       "      <td>https://www.yelp.com/biz/chilis-atlanta-6?adju...</td>\n",
       "      <td>210</td>\n",
       "      <td>[{'alias': 'tradamerican', 'title': 'American ...</td>\n",
       "      <td>2.0</td>\n",
       "      <td>{'latitude': 33.654983920724604, 'longitude': ...</td>\n",
       "      <td>[pickup, delivery]</td>\n",
       "      <td>{'address1': '3660 Camp Creek Pkwy SW', 'addre...</td>\n",
       "      <td>+14046290113</td>\n",
       "      <td>(404) 629-0113</td>\n",
       "      <td>14914.718084</td>\n",
       "      <td>$$</td>\n",
       "    </tr>\n",
       "    <tr>\n",
       "      <th>996</th>\n",
       "      <td>2Wk5KXzGtrOJ71uP_XSaQg</td>\n",
       "      <td>a-little-nauti-food-truck-atlanta</td>\n",
       "      <td>A Little Nauti Food Truck</td>\n",
       "      <td>https://s3-media2.fl.yelpcdn.com/bphoto/UjBWlo...</td>\n",
       "      <td>False</td>\n",
       "      <td>https://www.yelp.com/biz/a-little-nauti-food-t...</td>\n",
       "      <td>12</td>\n",
       "      <td>[{'alias': 'seafood', 'title': 'Seafood'}, {'a...</td>\n",
       "      <td>4.0</td>\n",
       "      <td>{'latitude': 33.7552947998047, 'longitude': -8...</td>\n",
       "      <td>[]</td>\n",
       "      <td>{'address1': None, 'address2': None, 'address3...</td>\n",
       "      <td>+16782945894</td>\n",
       "      <td>(678) 294-5894</td>\n",
       "      <td>3233.865550</td>\n",
       "      <td>NaN</td>\n",
       "    </tr>\n",
       "    <tr>\n",
       "      <th>997</th>\n",
       "      <td>vGpXbr1a6d3JvPXHJSgRMw</td>\n",
       "      <td>palmers-peachtree-city</td>\n",
       "      <td>Palmer's</td>\n",
       "      <td>https://s3-media3.fl.yelpcdn.com/bphoto/5JJdX0...</td>\n",
       "      <td>False</td>\n",
       "      <td>https://www.yelp.com/biz/palmers-peachtree-cit...</td>\n",
       "      <td>313</td>\n",
       "      <td>[{'alias': 'newamerican', 'title': 'American (...</td>\n",
       "      <td>4.0</td>\n",
       "      <td>{'latitude': 33.4403686523438, 'longitude': -8...</td>\n",
       "      <td>[delivery]</td>\n",
       "      <td>{'address1': '991 N Peachtree Pkwy', 'address2...</td>\n",
       "      <td>+17706295280</td>\n",
       "      <td>(770) 629-5280</td>\n",
       "      <td>39518.241077</td>\n",
       "      <td>$$</td>\n",
       "    </tr>\n",
       "    <tr>\n",
       "      <th>998</th>\n",
       "      <td>yMKQoXFFsDk1IfgXxYfafQ</td>\n",
       "      <td>jasons-deli-tucker</td>\n",
       "      <td>Jason's Deli</td>\n",
       "      <td>https://s3-media1.fl.yelpcdn.com/bphoto/WSxoIU...</td>\n",
       "      <td>False</td>\n",
       "      <td>https://www.yelp.com/biz/jasons-deli-tucker?ad...</td>\n",
       "      <td>148</td>\n",
       "      <td>[{'alias': 'delis', 'title': 'Delis'}, {'alias...</td>\n",
       "      <td>3.0</td>\n",
       "      <td>{'latitude': 33.8452486525497, 'longitude': -8...</td>\n",
       "      <td>[pickup, delivery]</td>\n",
       "      <td>{'address1': '4073 Lavista Rd', 'address2': ''...</td>\n",
       "      <td>+17704934020</td>\n",
       "      <td>(770) 493-4020</td>\n",
       "      <td>17777.727252</td>\n",
       "      <td>$</td>\n",
       "    </tr>\n",
       "    <tr>\n",
       "      <th>999</th>\n",
       "      <td>blhndZdg-NT5MPba5BsS_g</td>\n",
       "      <td>drip-atlanta</td>\n",
       "      <td>Drip</td>\n",
       "      <td>https://s3-media4.fl.yelpcdn.com/bphoto/Yyq74M...</td>\n",
       "      <td>False</td>\n",
       "      <td>https://www.yelp.com/biz/drip-atlanta?adjust_c...</td>\n",
       "      <td>143</td>\n",
       "      <td>[{'alias': 'coffee', 'title': 'Coffee &amp; Tea'},...</td>\n",
       "      <td>4.0</td>\n",
       "      <td>{'latitude': 33.7407029474063, 'longitude': -8...</td>\n",
       "      <td>[delivery]</td>\n",
       "      <td>{'address1': '928-B Garrett St SE', 'address2'...</td>\n",
       "      <td>+14046277375</td>\n",
       "      <td>(404) 627-7375</td>\n",
       "      <td>6552.519072</td>\n",
       "      <td>$</td>\n",
       "    </tr>\n",
       "  </tbody>\n",
       "</table>\n",
       "</div>"
      ],
      "text/plain": [
       "                         id                              alias  \\\n",
       "995  CIKGC-_G0yrIkISvnsaFFg                   chilis-atlanta-6   \n",
       "996  2Wk5KXzGtrOJ71uP_XSaQg  a-little-nauti-food-truck-atlanta   \n",
       "997  vGpXbr1a6d3JvPXHJSgRMw             palmers-peachtree-city   \n",
       "998  yMKQoXFFsDk1IfgXxYfafQ                 jasons-deli-tucker   \n",
       "999  blhndZdg-NT5MPba5BsS_g                       drip-atlanta   \n",
       "\n",
       "                          name  \\\n",
       "995                    Chili's   \n",
       "996  A Little Nauti Food Truck   \n",
       "997                   Palmer's   \n",
       "998               Jason's Deli   \n",
       "999                       Drip   \n",
       "\n",
       "                                             image_url  is_closed  \\\n",
       "995  https://s3-media4.fl.yelpcdn.com/bphoto/QKJBTC...      False   \n",
       "996  https://s3-media2.fl.yelpcdn.com/bphoto/UjBWlo...      False   \n",
       "997  https://s3-media3.fl.yelpcdn.com/bphoto/5JJdX0...      False   \n",
       "998  https://s3-media1.fl.yelpcdn.com/bphoto/WSxoIU...      False   \n",
       "999  https://s3-media4.fl.yelpcdn.com/bphoto/Yyq74M...      False   \n",
       "\n",
       "                                                   url  review_count  \\\n",
       "995  https://www.yelp.com/biz/chilis-atlanta-6?adju...           210   \n",
       "996  https://www.yelp.com/biz/a-little-nauti-food-t...            12   \n",
       "997  https://www.yelp.com/biz/palmers-peachtree-cit...           313   \n",
       "998  https://www.yelp.com/biz/jasons-deli-tucker?ad...           148   \n",
       "999  https://www.yelp.com/biz/drip-atlanta?adjust_c...           143   \n",
       "\n",
       "                                            categories  rating  \\\n",
       "995  [{'alias': 'tradamerican', 'title': 'American ...     2.0   \n",
       "996  [{'alias': 'seafood', 'title': 'Seafood'}, {'a...     4.0   \n",
       "997  [{'alias': 'newamerican', 'title': 'American (...     4.0   \n",
       "998  [{'alias': 'delis', 'title': 'Delis'}, {'alias...     3.0   \n",
       "999  [{'alias': 'coffee', 'title': 'Coffee & Tea'},...     4.0   \n",
       "\n",
       "                                           coordinates        transactions  \\\n",
       "995  {'latitude': 33.654983920724604, 'longitude': ...  [pickup, delivery]   \n",
       "996  {'latitude': 33.7552947998047, 'longitude': -8...                  []   \n",
       "997  {'latitude': 33.4403686523438, 'longitude': -8...          [delivery]   \n",
       "998  {'latitude': 33.8452486525497, 'longitude': -8...  [pickup, delivery]   \n",
       "999  {'latitude': 33.7407029474063, 'longitude': -8...          [delivery]   \n",
       "\n",
       "                                              location         phone  \\\n",
       "995  {'address1': '3660 Camp Creek Pkwy SW', 'addre...  +14046290113   \n",
       "996  {'address1': None, 'address2': None, 'address3...  +16782945894   \n",
       "997  {'address1': '991 N Peachtree Pkwy', 'address2...  +17706295280   \n",
       "998  {'address1': '4073 Lavista Rd', 'address2': ''...  +17704934020   \n",
       "999  {'address1': '928-B Garrett St SE', 'address2'...  +14046277375   \n",
       "\n",
       "      display_phone      distance price  \n",
       "995  (404) 629-0113  14914.718084    $$  \n",
       "996  (678) 294-5894   3233.865550   NaN  \n",
       "997  (770) 629-5280  39518.241077    $$  \n",
       "998  (770) 493-4020  17777.727252     $  \n",
       "999  (404) 627-7375   6552.519072     $  "
      ]
     },
     "metadata": {},
     "output_type": "display_data"
    }
   ],
   "source": [
    "#load final results\n",
    "final_df = pd.read_json(JSON_FILE)\n",
    "display(final_df.head(), final_df.tail())"
   ]
  },
  {
   "cell_type": "code",
   "execution_count": 21,
   "id": "2612b66b",
   "metadata": {},
   "outputs": [
    {
     "data": {
      "text/plain": [
       "0"
      ]
     },
     "execution_count": 21,
     "metadata": {},
     "output_type": "execute_result"
    }
   ],
   "source": [
    "#Check for duplicate ID's\n",
    "final_df.duplicated(subset='id').sum()"
   ]
  },
  {
   "cell_type": "code",
   "execution_count": 23,
   "id": "da25b139",
   "metadata": {},
   "outputs": [],
   "source": [
    "#Save the final results to a compressed csv\n",
    "final_df.to_csv('Data/final_results_atl_tacos.csv.gz', compression='gzip', index=False)"
   ]
  },
  {
   "cell_type": "code",
   "execution_count": null,
   "id": "ce5311ba",
   "metadata": {},
   "outputs": [],
   "source": []
  }
 ],
 "metadata": {
  "kernelspec": {
   "display_name": "Python (dojo-env)",
   "language": "python",
   "name": "dojo-env"
  },
  "language_info": {
   "codemirror_mode": {
    "name": "ipython",
    "version": 3
   },
   "file_extension": ".py",
   "mimetype": "text/x-python",
   "name": "python",
   "nbconvert_exporter": "python",
   "pygments_lexer": "ipython3",
   "version": "3.9.15"
  },
  "toc": {
   "base_numbering": 1,
   "nav_menu": {},
   "number_sections": false,
   "sideBar": true,
   "skip_h1_title": false,
   "title_cell": "Table of Contents",
   "title_sidebar": "Contents",
   "toc_cell": false,
   "toc_position": {},
   "toc_section_display": true,
   "toc_window_display": false
  }
 },
 "nbformat": 4,
 "nbformat_minor": 5
}
